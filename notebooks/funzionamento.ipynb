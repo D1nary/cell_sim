{
 "cells": [
  {
   "cell_type": "markdown",
   "metadata": {},
   "source": [
    "## Info sui dunder methods nei file cell.py e grid.py:\n",
    "Data una **classe**, le funzioni al loro interno prendono il nome di **metodi**. I metodi che iniziano e finiscono con **__** vengono chiamati **metodi speciali**, **metodi magici** o **dunder methods**. \n",
    "Ecco alcuni esempi di dunder methods:\n",
    "* **__init__()**: Costruttore della classe, chiamato quando si crea una nuova istanza. Viene chiamato automaticamente quando si crea un nuovo oggetto di una classe.\n",
    "* **__lt__()**: Utilizzato per definire il comportamento dell'operatore <. Viene chiamato quando si usa l'operatore < tra due oggetti. Il metodo restituisce un valore booleano (True o False) a seconda del risultato del confronto tra l'istanza corrente e l'oggetto da confrontare.\n",
    "* **__iter()__** e **__next()__**: Considerando le seguenti righe di codice:\n",
    "    ```python\n",
    "    class CellList:\n",
    "        \"\"\"Used to hold lists of cells on each pixel while keeping cancer cells and healthy cells sorted\n",
    "        \"\"\"\n",
    "\n",
    "        def __init__(self):\n",
    "            self.size = 0\n",
    "            self.num_c_cells = 0\n",
    "            self.cancer_cells = []\n",
    "            self.healthy_cells = []\n",
    "\n",
    "        def __iter__(self):\n",
    "            \"\"\"Needed to iterate on the list object\"\"\"\n",
    "            self._iter_count = -1\n",
    "            return self\n",
    "\n",
    "        def __next__(self):\n",
    "            \"\"\"Needed to iterate on the list object\"\"\"\n",
    "            self._iter_count += 1\n",
    "            if self._iter_count < self.num_c_cells:\n",
    "                return self.cancer_cells[self._iter_count] # Return one element (one cell)\n",
    "            elif self._iter_count < self.size:\n",
    "                return self.healthy_cells[self._iter_count - self.num_c_cells]\n",
    "            else:\n",
    "                raise StopIteration\n",
    "    ```\n",
    "    * **__iter()__**: Permette di rendere l'oggetto iterabile. *self._iter_count* è un contatore utilizzato per tenere traccia dell'indice dell'iterazione. Il metodo restituisce *self*, rendendo l'oggetto stesso l'iteratore.\n",
    "    * **__next__()**: Definisce cosa succede quando l'oggetto viene iterato (ad esempio in un ciclo for).\n",
    "\n",
    "* **__str__()**: Definisce la rappresentazione a stringa leggibile di un oggetto, utilizzata quando si chiama print() sull'oggetto. Viene chiamato automaticamente quando si utilizza print() o str() su un oggetto\n",
    "* **__add__()**: Definisce il comportamento dell'operatore + per la classe.\n",
    "* **__len()__**: Deve essere implementato nella classe per rendere possibile l'utilizzo della funzione len() sull'istanza dell'oggetto.\n",
    "* **__getitem()__**: Deve essere implementato in una classe per rendere possibile l'uso delle parentesi quadre per accedere agli elementi dell'oggetto.\n",
    "\n",
    "\n",
    "I metodi speciali permettono di personalizzare il comportamento degli operatori e delle funzioni di Python per le istanze delle classi definite dall'utente."
   ]
  },
  {
   "cell_type": "markdown",
   "metadata": {},
   "source": [
    "## **FILE cell.py**:\n"
   ]
  }
 ],
 "metadata": {
  "language_info": {
   "name": "python"
  }
 },
 "nbformat": 4,
 "nbformat_minor": 2
}
