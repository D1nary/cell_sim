{
 "cells": [
  {
   "cell_type": "markdown",
   "metadata": {},
   "source": [
    "## Info generali:\n",
    "Data una **classe**, le funzioni al loro interno prendono il nome di **metodi**. I metodi che iniziano e finiscono con **__** vengono chiamati **metodi speciali**, **metodi magici** o **dunder methods**. \n",
    "Ecco alcuni esempi di dunder methods:\n",
    "* **__init__()**: Costruttore della classe, chiamato quando si crea una nuova istanza. Viene chiamato automaticamente quando si crea un nuovo oggetto di una classe.\n",
    "* **__lt__()**: Utilizzato per definire il comportamento dell'operatore <. Viene chiamato quando si usa l'operatore < tra due oggetti. Il metodo restituisce un valore booleano (True o False) a seconda del risultato del confronto tra l'istanza corrente e l'oggetto da confrontare.\n",
    "* **__str__()**: Definisce la rappresentazione a stringa leggibile di un oggetto, utilizzata quando si chiama print() sull'oggetto. Viene chiamato automaticamente quando si utilizza print() o str() su un oggetto\n",
    "* **__add__()**: Definisce il comportamento dell'operatore + per la classe.\n",
    "\n",
    "\n",
    "I metodi speciali permettono di personalizzare il comportamento degli operatori e delle funzioni di Python per le istanze delle classi definite dall'utente."
   ]
  },
  {
   "cell_type": "markdown",
   "metadata": {},
   "source": [
    "## **FILE cell.py**:\n"
   ]
  }
 ],
 "metadata": {
  "language_info": {
   "name": "python"
  }
 },
 "nbformat": 4,
 "nbformat_minor": 2
}
