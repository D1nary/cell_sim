{
 "cells": [
  {
   "cell_type": "markdown",
   "metadata": {},
   "source": [
    "# ***Controller*** notes (controller.py)"
   ]
  },
  {
   "cell_type": "markdown",
   "metadata": {},
   "source": [
    "## *init()*\n",
    "\n",
    "```python\n",
    "for i in range(xsize):\n",
    "    for j in range(ysize):\n",
    "        if random.random() < prob:\n",
    "            new_cell = HealthyCell(random.randint(0, 4))\n",
    "            self.grid.cells[i, j].append(new_cell)\n",
    "```\n",
    "L'obiettivo generale di questo codice è inizializzare la griglia dell'ambiente cellulare. Le cellule sane vengono distribuite casualmente sulla griglia, con una probabilità determinata dal parametro hcells. Successivamente, viene posizionata una cellula cancerosa al centro della griglia."
   ]
  },
  {
   "cell_type": "markdown",
   "metadata": {},
   "source": [
    "## *observeSegmentation()* e *observeDensity()*\n",
    "\n",
    "Consideriamo solo observeSegmentation() poichè per *observeDensity()* vale la stessa cosa.\n",
    "```python\n",
    "def observeSegmentation(self):\n",
    "    \"\"\"Produce observation of type segmentation\"\"\"\n",
    "    seg = np.vectorize(lambda x:x.pixel_type())\n",
    "    return seg(self.grid.cells)\n",
    "```\n",
    "\n",
    "* *lambda x: x.pixel_type()*: Crea una funzione anonima (*lambda*) che prende un parametro *x* e restituisce il risultato di *x.pixel_type()*\n",
    "* *np.vectorize()*: Accetta un'operazione scalare (cioè che opera su un singolo elemento) e la trasforma in un'operazione che può essere applicata elemento per elemento su un array. *lambda* viene usata per definire l'operazione scalare che verrà applicata su ogni cellula della griglia.\n",
    "* *return seg(self.grid.cells)*: Il risultato è un array dove ogni elemento rappresenta il tipo di una cellula (ad esempio, potrebbe essere \"cellula sana\" o \"cellula cancerosa\"). Questo array viene restituito come l'osservazione \"segmentata\" dell'ambiente."
   ]
  },
  {
   "cell_type": "markdown",
   "metadata": {},
   "source": [
    "## go()\n",
    "La funzione *go()* esegue un ciclo di simulazione per un certo numero di passi temporali.\n",
    "\n",
    "* Basandonci sul fatto che nella funzione ogni ciclo (passo) corrisponde a un incremento del contatore del tempo (*self.tick += 1*) e che ogni 24 passi si esegue l'operazione *self.grid.compute_center()*, sembra ragionevole assumere che ogni passo della simulazione rappresenti un'ora (steps = 1 corrisponde a 1 ora).\n",
    "\n",
    "*   ```python\n",
    "    self.tick += 1\n",
    "    ```\n",
    "    Aggiorna il contatore del tempo (tick) ad ogni passo della simulazione.\n",
    "\n",
    "*   ```python\n",
    "    if self.draw_step > 0 and self.tick % self.draw_step == 0:\n",
    "    self.update_plots()\n",
    "    ```\n",
    "    Se il parametro self.draw_step è maggiore di 0 e l'indice temporale (*tick*) è un multiplo di *self.draw_step*, viene chiamata la funzione *self.update_plots()* per aggiornare le visualizzazioni grafiche della simulazione."
   ]
  },
  {
   "cell_type": "markdown",
   "metadata": {},
   "source": [
    "## plot_init()\n",
    "\n",
    "*   ```python\n",
    "    matplotlib.use(\"TkAgg\")\n",
    "    ```\n",
    "    Imposta il backend di Matplotlib su TkAgg, il che significa che i grafici verranno visualizzati in finestre separate (spesso usato per visualizzazioni interattive). Il *backend* è responsabile di rendere visibili i grafici e le figure su diverse piattaforme e dispositivi. Ogni backend gestisce come il grafico viene disegnato e mostrato. Esistono due tipi principali di backend:\n",
    "    * Backend interattivi (GUI) come *TkAgg*\n",
    "    * Backend non interattivi come *pdf*\n",
    "    Quando si imposta matplotlib.use(\"TkAgg\"), si dice a Matplotlib di utilizzare Tkinter per creare una finestra interattiva che mostrerà i grafici. Agg gestisce il disegno vero e proprio del grafico, fornendo un rendering di alta qualità, mentre Tkinter gestisce la finestra e l'interfaccia utente.\n",
    "\n",
    "*   ```python\n",
    "    plt.ion()\n",
    "    ```\n",
    "    Abilita la modalità interattiva di Matplotlib, che consente di aggiornare i grafici in tempo reale senza bloccare l'esecuzione del codice.\n",
    "\n",
    "*   ```python\n",
    "    self.fig, axs = plt.subplots(2,2, constrained_layout=True)\n",
    "    ```\n",
    "    Crea una figura con una griglia di sottotrame (2x2), ottimizzando automaticamente il layout con *constrained_layout=True* per evitare sovrapposizioni tra i componenti del grafico.\n",
    "\n",
    "*   ```python\n",
    "    self.cell_plot.imshow(\n",
    "                    [[patch_type_color(self.grid.cells[i][j]) for j in range(self.grid.ysize)] for i in range(self.grid.xsize)])\n",
    "    ```\n",
    "    *  *imshow()*:  Visualizza una rappresentazione grafica dei tipi di cellule all'interno della griglia della simulazione. L'elemento tra le parentesi è una matrice in moodo da ottenere, alla fine, una matrice bidimensionale, dove ogni elemento è il risultato della funzione *patch_type_color()*\n",
    "    * *patch_type_color()*: Prende in input un elemento della griglia e restituisce il colore corrispondente, che viene poi utilizzato per visualizzare la cellula nel grafico.\n",
    "        *   ```python\n",
    "            def patch_type_color(patch):\n",
    "                if len(patch) == 0:\n",
    "                    return 0, 0, 0\n",
    "                else:\n",
    "                    return patch[0].cell_color()\n",
    "            ``` \n",
    "        * *patch*: Rappresenta un gruppo di cellule che occupano una singola posizione della griglia.\n",
    "        * La funzione controlla prima se il \"patch\" è vuoto, cioè se la lista di cellule in quella posizione della griglia è vuota. In questo caso restituisce il colore nero (0, 0, 0).\n",
    "        * Se il \"patch\" non è vuoto, la funzione restituisce il colore della prima cellula nel \"patch\".\n",
    "        * *patch[0]*: Rappresenta la prima cellula nella lista, e la funzione *cell_color()* viene chiamata su quella cellula per ottenere il colore associato a quel tipo di cellula.\n",
    "        * Il colore di ogni tipo di cellula è impostato nella funzione *cell_color()* presente all'interno di ciascuna classe di cellule nel file *cell.py*.\n",
    "\n",
    "*   ```python\n",
    "        self.cell_density_plot.imshow(\n",
    "            [[len(self.grid.cells[i][j]) for j in range(self.grid.ysize)] for i in range(self.grid.xsize)])\n",
    "    ```\n",
    "    * Similmente alla visualizzazione dei tipi di cellule, qui viene visualizzata la densità delle cellule in ogni punto della griglia.\n",
    "    * All'interno delle parentesi di *imshow* si ha una matrice in cui gli elementi rappresentano il numero di cellule all'interno dell'elemento *self.grid.cells[i][j]*.\n",
    "    * Il colore cambia in automatico in base alla densità do cellule (mappa di calore)."
   ]
  },
  {
   "cell_type": "markdown",
   "metadata": {},
   "source": [
    "## update_plots()\n",
    "\n",
    "Questa funzione è uguale a *plot_init()* con l'unica differenza nella mancanza della dichiarazione iniziale dei grafici. Serve per aggiornare tutti e 4 io grafici presenti nel subplot."
   ]
  }
 ],
 "metadata": {
  "language_info": {
   "name": "python"
  }
 },
 "nbformat": 4,
 "nbformat_minor": 2
}
