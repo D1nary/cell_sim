{
 "cells": [
  {
   "cell_type": "markdown",
   "metadata": {},
   "source": [
    "# Diffusione della griglia 2D\n",
    "Diffusione nella griglia 2D nella funzione *neighbors_glucose()* nel file *grid.py*."
   ]
  },
  {
   "cell_type": "markdown",
   "metadata": {},
   "source": [
    "## Funzione neighbors_glucose()\n",
    "```python\n",
    "def neighbors_glucose(self):\n",
    "        #Roll array in every direction to diffuse\n",
    "        down = np.roll(self.glucose, 1, axis=0)\n",
    "        up = np.roll(self.glucose, -1, axis=0)\n",
    "        right = np.roll(self.glucose, 1, axis=(0, 1))\n",
    "        left = np.roll(self.glucose, -1, axis=(0, 1))\n",
    "        down_right = np.roll(down, 1, axis=(0, 1))\n",
    "        down_left = np.roll(down, -1, axis=(0, 1))\n",
    "        up_right = np.roll(up, 1, axis=(0, 1))\n",
    "        up_left = np.roll(up, -1, axis=(0, 1))\n",
    "        for i in range(self.ysize):  # Down\n",
    "            down[0, i] = 0\n",
    "            down_left[0, i] = 0\n",
    "            down_right[0, i] = 0\n",
    "        for i in range(self.ysize):  # Up\n",
    "            up[self.xsize - 1, i] = 0\n",
    "            up_left[self.xsize - 1, i] = 0\n",
    "            up_right[self.xsize - 1, i] = 0\n",
    "        for i in range(self.xsize):  # Right\n",
    "            right[i, 0] = 0\n",
    "            down_right[i, 0] = 0\n",
    "            up_right[i, 0] = 0\n",
    "        for i in range(self.xsize):  # Left\n",
    "            left[i, self.ysize - 1] = 0\n",
    "            down_left[i, self.ysize - 1] = 0\n",
    "            up_left[i, self.ysize - 1] = 0\n",
    "        return down + up + right + left + down_left + down_right + up_left + up_right\n",
    "```\n"
   ]
  },
  {
   "cell_type": "markdown",
   "metadata": {},
   "source": [
    "## Comportamento della funzione neighbors_glucose()\n",
    "```python\n",
    "array([['-', 'o', '-', '-', '-', '-'],\n",
    "       ['-', 'o', 'o', '-', '-', '-'],\n",
    "       ['-', 'o', 'O', 'o', '-', '-'],\n",
    "       ['-', '-', 'o', 'o', '-', '-'],\n",
    "       ['-', '-', '-', 'o', '-', '-'],\n",
    "       ['-', '-', '-', '-', '-', '-']], dtype='<U1')\n",
    "\n",
    "\n",
    "array([['-', 'ul', '-', '-', '-', '-'],\n",
    "       ['-', 'l', 'u', '-', '-', '-'],\n",
    "       ['-', 'dl', 'O', 'ur', '-', '-'],\n",
    "       ['-', '-', 'd', 'r', '-', '-'],\n",
    "       ['-', '-', '-', 'dr', '-', '-'],\n",
    "       ['-', '-', '-', '-', '-', '-']], dtype='<U1')\n",
    "```\n",
    "\n",
    "* **Prima tabella**: Rappresentazione delle posizioni che un punto *'O'* (O maiuscola) preso come riferimento assume quando ad esso vengono applicate tutti gli spostamenti. Questi ultimi sono rappresentati con *'o'* (o minuscolo)\n",
    "\n",
    "* **Seconda tabella**: Stessa cosa della prima tabella ma al posto di *'o'* è riportato il nome della funzione che ha generato quello spostamento.\n",
    "\n",
    "     \n",
    "\n"
   ]
  }
 ],
 "metadata": {
  "language_info": {
   "name": "python"
  }
 },
 "nbformat": 4,
 "nbformat_minor": 2
}
